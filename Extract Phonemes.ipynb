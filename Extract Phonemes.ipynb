{
 "cells": [
  {
   "cell_type": "code",
   "execution_count": 1,
   "metadata": {
    "collapsed": false
   },
   "outputs": [],
   "source": [
    "import pandas as pd\n",
    "from tqdm import tqdm, tqdm_notebook\n",
    "import numpy as np\n",
    "from subprocess import Popen, PIPE\n",
    "import re"
   ]
  },
  {
   "cell_type": "code",
   "execution_count": 2,
   "metadata": {
    "collapsed": false
   },
   "outputs": [],
   "source": [
    "lyrics = pd.read_csv('lyrics.csv', header=None, names=['Album', 'Artist', 'Line', 'NextLine', 'Song', 'Year'])\n",
    "lyrics = lyrics.dropna()"
   ]
  },
  {
   "cell_type": "code",
   "execution_count": 3,
   "metadata": {
    "collapsed": false
   },
   "outputs": [],
   "source": [
    "VOWELS = r'i|ɪ|e|ɛ|æ|a|ə|ɑ|ɒ|ɔ|ʌ|o|ʊ|u|y|ʏ|ø|œ|ɐ|ɜ|ɞ|ɘ|ɵ|ʉ|ɨ|ɤ|ɯ'"
   ]
  },
  {
   "cell_type": "code",
   "execution_count": 4,
   "metadata": {
    "collapsed": false
   },
   "outputs": [],
   "source": [
    "def get_phonemes(line):\n",
    "    line = re.sub(r'\"', '', line)\n",
    "    command = 'espeak --ipa -q \"{}\"'.format(line)\n",
    "    process = Popen(command, shell=True, stdout=PIPE)\n",
    "    output, _ = process.communicate()\n",
    "    return ''.join(re.findall(VOWELS, str(output, encoding='utf-8')))[::-1]"
   ]
  },
  {
   "cell_type": "code",
   "execution_count": 5,
   "metadata": {
    "collapsed": true
   },
   "outputs": [],
   "source": [
    "def word_count(line):\n",
    "    return len(str(line).split())"
   ]
  },
  {
   "cell_type": "code",
   "execution_count": 6,
   "metadata": {
    "collapsed": false,
    "scrolled": false
   },
   "outputs": [
    {
     "name": "stderr",
     "output_type": "stream",
     "text": [
      "Extracting Phonemes: 100%|██████████| 463713/463713 [2:49:21<00:00, 45.63it/s]   \n",
      "Extracting Word Counts: 100%|██████████| 463713/463713 [00:02<00:00, 174004.66it/s]\n"
     ]
    },
    {
     "name": "stdout",
     "output_type": "stream",
     "text": [
      "Writing to CSV\n"
     ]
    }
   ],
   "source": [
    "tqdm.pandas(desc=\"Extracting Phonemes\")\n",
    "lyrics['Vowels'] = lyrics['Line'].progress_apply(get_phonemes)\n",
    "tqdm.pandas(desc=\"Extracting Word Counts\")\n",
    "lyrics['Length'] = lyrics['Line'].progress_apply(word_count)\n",
    "print('Writing to CSV')\n",
    "lyrics.to_csv('lyrics_features.csv', index=False)"
   ]
  },
  {
   "cell_type": "code",
   "execution_count": 32,
   "metadata": {
    "collapsed": false
   },
   "outputs": [],
   "source": [
    "df = lyrics.sort_values(by='Vowels')\n",
    "df = df.drop(df[df.Vowels == ''].index)\n",
    "df.to_csv('lyrics_sorted.csv', index=False)"
   ]
  }
 ],
 "metadata": {
  "kernelspec": {
   "display_name": "Python 3",
   "language": "python",
   "name": "python3"
  },
  "language_info": {
   "codemirror_mode": {
    "name": "ipython",
    "version": 3
   },
   "file_extension": ".py",
   "mimetype": "text/x-python",
   "name": "python",
   "nbconvert_exporter": "python",
   "pygments_lexer": "ipython3",
   "version": "3.6.0"
  }
 },
 "nbformat": 4,
 "nbformat_minor": 2
}
